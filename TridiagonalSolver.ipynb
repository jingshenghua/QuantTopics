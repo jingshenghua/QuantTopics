{
 "cells": [
  {
   "cell_type": "markdown",
   "metadata": {},
   "source": [
    "# Tridiagonal System"
   ]
  },
  {
   "cell_type": "markdown",
   "metadata": {},
   "source": [
    "A tridiagonal system for n unknowns may be written as\n",
    "$$a_ix_{i-1} + b_ix_i+ c_ix_{i+1}=d_i $$ \n",
    "\n",
    "where $$ a_1=0,c_n=0$$\n",
    "In matrix form,\n",
    "$$\\begin{bmatrix} \n",
    "b_1 & c_1 &  & &&0 \\\\\n",
    " a_2 & b_2 &c_2& & &\\\\\n",
    " 0 & a_3 &b_3&c_3&&\\\\\n",
    " &  &... &&&\\\\\n",
    "&  &&&a_n&b_n\\\\ \n",
    "\\end{bmatrix} *\\begin{bmatrix} \n",
    "x_1\\\\x_2\\\\  \\\\..\\\\x_n \n",
    "\\end{bmatrix} =\\begin{bmatrix} \n",
    "d_1\\\\d_2\\\\  \\\\..\\\\d_n \n",
    "\\end{bmatrix} $$ \n",
    "\n",
    "This tridiagonal matrix has financial applications,e.g solving finite difference method on Black-Scholes PDE. Solving this matrix requries $O(n)$ instead of $O(n^3) $with traditional  Gaussian elimination"
   ]
  },
  {
   "cell_type": "code",
   "execution_count": 1,
   "metadata": {},
   "outputs": [],
   "source": [
    "import numpy as np"
   ]
  },
  {
   "cell_type": "code",
   "execution_count": 3,
   "metadata": {},
   "outputs": [],
   "source": [
    "def tridiag(a, b, c, k1=-1, k2=0, k3=1):\n",
    "    \"\"\"Create Tridiagonal matrix,\n",
    "    Take list a,b,c as diagonals and return the tridiagonal matrix\"\"\"\n",
    "    if len(a)+1!=len(b) or len(a)!=len(c) or len(b)-1!=len(c): ## check if a,b,c size matching, len(a)=len(b)-1=len(c)\n",
    "        raise ValueError('size of diagonal not matching')\n",
    "    return np.diag(a, k1) + np.diag(b, k2) + np.diag(c, k3)"
   ]
  },
  {
   "cell_type": "code",
   "execution_count": 4,
   "metadata": {},
   "outputs": [
    {
     "data": {
      "text/plain": [
       "array([[2, 3, 0, 0, 0, 0, 0, 0],\n",
       "       [1, 2, 3, 0, 0, 0, 0, 0],\n",
       "       [0, 1, 2, 3, 0, 0, 0, 0],\n",
       "       [0, 0, 1, 2, 3, 0, 0, 0],\n",
       "       [0, 0, 0, 1, 2, 3, 0, 0],\n",
       "       [0, 0, 0, 0, 1, 2, 3, 0],\n",
       "       [0, 0, 0, 0, 0, 1, 2, 3],\n",
       "       [0, 0, 0, 0, 0, 0, 1, 2]])"
      ]
     },
     "execution_count": 4,
     "metadata": {},
     "output_type": "execute_result"
    }
   ],
   "source": [
    "a = np.array([1, 1,1,1,1,1,1]); b = np.array([2, 2, 2,2,2,2,2,2]); c =np.array( [3, 3,3,3,3,3,3])\n",
    "A = tridiag(a, b, c)\n",
    "A"
   ]
  },
  {
   "cell_type": "code",
   "execution_count": 5,
   "metadata": {},
   "outputs": [],
   "source": [
    "def TDMAsolver(a, b, c, d):\n",
    "    '''\n",
    "    Thomas algorithm for solving tridiagonal linear systems\n",
    "    https://en.wikipedia.org/wiki/Tridiagonal_matrix_algorithm\n",
    "    take a,b,c as tridiagonal matrix, d as dependent values, find the tridigonal matrix solution X such that AX=d\n",
    "    better than gaussian, O(n)\n",
    "    '''\n",
    "    if len(a)+1!=len(b) or len(a)!=len(c) or len(b)-1!=len(c): ## check if a,b,c size matching, len(a)=len(b)-1=len(c)\n",
    "        raise ValueError('size of diagonal not matching')\n",
    "    n = len(d) # number of equations\n",
    "    solution=[0]*n\n",
    "    for i in range(0, n-1):\n",
    "        w=a[i]/b[i]\n",
    "        b[i+1]=b[i+1]-w*c[i]\n",
    "        d[i+1]=d[i+1]-w*d[i]\n",
    "        \n",
    "    solution[n-1]=d[n-1]/b[n-1]\n",
    "    for j in range(n-2,-1,-1):\n",
    "        solution[j]=(d[j]-(c[j]*solution[j+1]))/b[j]\n",
    "\n",
    "    return solution"
   ]
  },
  {
   "cell_type": "code",
   "execution_count": 6,
   "metadata": {},
   "outputs": [],
   "source": [
    "a = np.array([3.,1,3]) \n",
    "b = np.array([10.,10.,7.,4.])\n",
    "c = np.array([2.,4.,5.])\n",
    "d = np.array([3,4,5,6.])\n",
    "A =tridiag(a,b,c) "
   ]
  },
  {
   "cell_type": "code",
   "execution_count": 7,
   "metadata": {},
   "outputs": [
    {
     "name": "stdout",
     "output_type": "stream",
     "text": [
      "numpy solution =  [ 0.14877589  0.75612053 -1.00188324  2.25141243]\n",
      "numpy linear solver time cost :  0.026336799999967297 sec\n",
      "TDMA solver solution =  [0.1487758945386064, 0.756120527306968, -1.001883239171375, 2.2514124293785316]\n",
      "Mine tridiagonal solver time cost:  0.0004096000000117783 sec\n"
     ]
    }
   ],
   "source": [
    "## compare with build-in linear solver\n",
    "import timeit\n",
    "start = timeit.default_timer()\n",
    "print('numpy solution = ',np.linalg.solve(A, d))\n",
    "stop = timeit.default_timer()\n",
    "print('numpy linear solver time cost : ', stop - start,\"sec\")\n",
    "\n",
    "start = timeit.default_timer()\n",
    "print('TDMA solver solution = ',TDMAsolver(a,b,c,d))\n",
    "stop = timeit.default_timer()\n",
    "print('Mine tridiagonal solver time cost: ', stop - start,\"sec\")"
   ]
  },
  {
   "cell_type": "code",
   "execution_count": null,
   "metadata": {},
   "outputs": [],
   "source": []
  }
 ],
 "metadata": {
  "kernelspec": {
   "display_name": "Python 3",
   "language": "python",
   "name": "python3"
  },
  "language_info": {
   "codemirror_mode": {
    "name": "ipython",
    "version": 3
   },
   "file_extension": ".py",
   "mimetype": "text/x-python",
   "name": "python",
   "nbconvert_exporter": "python",
   "pygments_lexer": "ipython3",
   "version": "3.7.3"
  }
 },
 "nbformat": 4,
 "nbformat_minor": 2
}
